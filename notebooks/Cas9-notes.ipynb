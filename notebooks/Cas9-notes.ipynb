{
 "cells": [
  {
   "cell_type": "markdown",
   "id": "b3fecd1f",
   "metadata": {},
   "source": [
    "# Guide RNA design notes"
   ]
  },
  {
   "cell_type": "markdown",
   "id": "bcfece07",
   "metadata": {},
   "source": [
    "## Goal"
   ]
  },
  {
   "cell_type": "markdown",
   "id": "2cd14b85",
   "metadata": {},
   "source": [
    "Design gRNA for as Cas9 nickase to test if nicks induce R-loop formation."
   ]
  },
  {
   "cell_type": "markdown",
   "id": "235b0fbc",
   "metadata": {},
   "source": [
    "[addgene article](https://blog.addgene.org/how-to-design-your-grna-for-crispr-genome-editing)"
   ]
  },
  {
   "cell_type": "markdown",
   "id": "94eeabb9",
   "metadata": {},
   "source": [
    "```it seems to be the case that there is no universal scoring system for selecting a gRNA, as the method of producing the guide (synthetic, in vitro transcription, or lentiviral delivery) can affect the accuracy of a predictive score, as well as dynamic aspects of the target```"
   ]
  },
  {
   "cell_type": "markdown",
   "id": "3bd66832",
   "metadata": {},
   "source": [
    "Nice"
   ]
  },
  {
   "cell_type": "markdown",
   "id": "87352f5b",
   "metadata": {},
   "source": [
    "One approach would then be to just find PAM sites and generate guide RNA for that site. Sequence should be sliced to be from perspective of transcription to make things easier."
   ]
  },
  {
   "cell_type": "markdown",
   "id": "259d4b4d",
   "metadata": {},
   "source": [
    "### gRNA length"
   ]
  },
  {
   "cell_type": "markdown",
   "id": "62aa7ec2",
   "metadata": {},
   "source": [
    "- [Length of 20 bp is commonly used](https://www.ncbi.nlm.nih.gov/pmc/articles/PMC6538514/)"
   ]
  },
  {
   "cell_type": "markdown",
   "id": "4fe7eb87",
   "metadata": {},
   "source": [
    "## Nicking enzymes\n",
    "\n",
    "[NEB EnGen® Spy Cas9 Nickase](https://www.neb.com/products/m0650-engen-spy-cas9-nickase#Product%20Information)"
   ]
  },
  {
   "cell_type": "markdown",
   "id": "a30833fc",
   "metadata": {},
   "source": [
    "```\n",
    "Nicking by EnGen Spy Cas9 Nickase occurs on the DNA strand opposite the target sequence. \n",
    "```"
   ]
  },
  {
   "cell_type": "markdown",
   "id": "6f277d70",
   "metadata": {},
   "source": [
    "Going to want to nick the coding strand most likely. So the gRNA should be designed to be complementary to the template strand."
   ]
  },
  {
   "cell_type": "markdown",
   "id": "0a48d006",
   "metadata": {},
   "source": [
    "## gRNA vs sgRNA\n",
    "\n",
    "sgRNA refers to \"single guide RNA\" which includes the scaffold sequence required for Cas9 nuclease acitivity. This scaffold sequence is paired with the gRNA which determines targeting.\n",
    "\n",
    "[AddGene Cas9 info page](https://www.addgene.org/guides/crispr/?utm_source=Addgene%20March%2014%2C%202013%20Newsletter%20Final&utm_campaign=March%202013%20Newsletter&utm_medium=email)"
   ]
  },
  {
   "cell_type": "markdown",
   "id": "3860c564",
   "metadata": {},
   "source": [
    "sgRNAs can be ordered directly from IDT (more expensive around 200 per sgRNA) or the gRNA can be cloned into a sgRNA vector which is then transformed into E. coli and used in an IVT to produce lots of gRNA for the Cas9 experiment."
   ]
  },
  {
   "cell_type": "markdown",
   "id": "61130049",
   "metadata": {},
   "source": [
    "### gRNA expression vector example"
   ]
  },
  {
   "cell_type": "markdown",
   "id": "b13775a7",
   "metadata": {},
   "source": [
    "[Addgene Source](https://www.addgene.org/46759/)"
   ]
  },
  {
   "cell_type": "code",
   "execution_count": null,
   "id": "3786550b",
   "metadata": {},
   "outputs": [],
   "source": []
  }
 ],
 "metadata": {
  "kernelspec": {
   "display_name": "Python 3 (ipykernel)",
   "language": "python",
   "name": "python3"
  },
  "language_info": {
   "codemirror_mode": {
    "name": "ipython",
    "version": 3
   },
   "file_extension": ".py",
   "mimetype": "text/x-python",
   "name": "python",
   "nbconvert_exporter": "python",
   "pygments_lexer": "ipython3",
   "version": "3.9.6"
  }
 },
 "nbformat": 4,
 "nbformat_minor": 5
}
