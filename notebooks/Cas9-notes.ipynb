{
 "cells": [
  {
   "cell_type": "markdown",
   "id": "da4a85f7",
   "metadata": {},
   "source": [
    "# Guide RNA design notes"
   ]
  },
  {
   "cell_type": "markdown",
   "id": "985ea658",
   "metadata": {},
   "source": [
    "## Goal"
   ]
  },
  {
   "cell_type": "markdown",
   "id": "b3efa31c",
   "metadata": {},
   "source": [
    "Design gRNA for as Cas9 nickase to test if nicks induce R-loop formation."
   ]
  },
  {
   "cell_type": "markdown",
   "id": "1662336e",
   "metadata": {},
   "source": [
    "[addgene article](https://blog.addgene.org/how-to-design-your-grna-for-crispr-genome-editing)"
   ]
  },
  {
   "cell_type": "markdown",
   "id": "e652d05f",
   "metadata": {},
   "source": [
    "```it seems to be the case that there is no universal scoring system for selecting a gRNA, as the method of producing the guide (synthetic, in vitro transcription, or lentiviral delivery) can affect the accuracy of a predictive score, as well as dynamic aspects of the target```"
   ]
  },
  {
   "cell_type": "markdown",
   "id": "f67fbbff",
   "metadata": {},
   "source": [
    "Nice"
   ]
  },
  {
   "cell_type": "markdown",
   "id": "077a0c33",
   "metadata": {},
   "source": [
    "One approach would then be to just find PAM sites and generate guide RNA for that site. Sequence should be sliced to be from perspective of transcription to make things easier."
   ]
  },
  {
   "cell_type": "markdown",
   "id": "186f128c",
   "metadata": {},
   "source": [
    "### gRNA length"
   ]
  },
  {
   "cell_type": "markdown",
   "id": "4d26e494",
   "metadata": {},
   "source": [
    "- [Length of 20 bp is commonly used](https://www.ncbi.nlm.nih.gov/pmc/articles/PMC6538514/)"
   ]
  },
  {
   "cell_type": "markdown",
   "id": "85530342",
   "metadata": {},
   "source": [
    "## Nicking enzymes\n",
    "\n",
    "[NEB EnGen® Spy Cas9 Nickase](https://www.neb.com/products/m0650-engen-spy-cas9-nickase#Product%20Information)"
   ]
  },
  {
   "cell_type": "markdown",
   "id": "481d7ffb",
   "metadata": {},
   "source": [
    "```\n",
    "Nicking by EnGen Spy Cas9 Nickase occurs on the DNA strand opposite the target sequence. \n",
    "```"
   ]
  },
  {
   "cell_type": "markdown",
   "id": "33cefe13",
   "metadata": {},
   "source": [
    "Going to want to nick the coding strand most likely. So the gRNA should be designed to be complementary to the template strand."
   ]
  },
  {
   "cell_type": "markdown",
   "id": "6ad34aa0",
   "metadata": {},
   "source": [
    "## gRNA vs sgRNA\n",
    "\n",
    "sgRNA refers to \"single guide RNA\" which includes the scaffold sequence required for Cas9 nuclease acitivity. This scaffold sequence is paired with the gRNA which determines targeting.\n",
    "\n",
    "[AddGene Cas9 info page](https://www.addgene.org/guides/crispr/?utm_source=Addgene%20March%2014%2C%202013%20Newsletter%20Final&utm_campaign=March%202013%20Newsletter&utm_medium=email)"
   ]
  },
  {
   "cell_type": "markdown",
   "id": "1c2569fe",
   "metadata": {},
   "source": [
    "sgRNAs can be ordered directly from IDT (more expensive around 200 per sgRNA) or the gRNA can be cloned into a sgRNA vector which is then transformed into E. coli and used in an IVT to produce lots of gRNA for the Cas9 experiment."
   ]
  },
  {
   "cell_type": "markdown",
   "id": "2a8c52af",
   "metadata": {},
   "source": [
    "### gRNA expression vector example"
   ]
  },
  {
   "cell_type": "markdown",
   "id": "277d1a14",
   "metadata": {},
   "source": [
    "[Addgene Source](https://www.addgene.org/46759/)"
   ]
  },
  {
   "cell_type": "markdown",
   "id": "25308194",
   "metadata": {},
   "source": [
    "# Label targets"
   ]
  },
  {
   "cell_type": "code",
   "execution_count": 1,
   "id": "025f17d3",
   "metadata": {},
   "outputs": [],
   "source": [
    "from Bio.SeqRecord import SeqRecord\n",
    "from Bio.SeqFeature import SeqFeature, FeatureLocation\n",
    "from Bio import SeqIO"
   ]
  },
  {
   "cell_type": "code",
   "execution_count": 19,
   "id": "ddb2abe3",
   "metadata": {},
   "outputs": [
    {
     "data": {
      "text/plain": [
       "SeqRecord(seq=Seq('GGGCGAATTGGAGCTCGGTACCCAAACACTCCCTCGGTAAAAGTCACTAAGTTG...ATA'), id='T7_init_VR-1.ins-tBaMXTcjc9Y339JIUJ99TNRNICU', name='<unknown name>', description='T7_init_VR-1.ins-tBaMXTcjc9Y339JIUJ99TNRNICU', dbxrefs=[])"
      ]
     },
     "execution_count": 19,
     "metadata": {},
     "output_type": "execute_result"
    }
   ],
   "source": [
    "# read file we want to label\n",
    "record = SeqIO.read('../output/sequences/split/VR-1.fa', 'fasta')\n",
    "record = SeqRecord(record.seq, id=record.id, description=record.description)\n",
    "record"
   ]
  },
  {
   "cell_type": "code",
   "execution_count": 20,
   "id": "847aa5f1",
   "metadata": {},
   "outputs": [],
   "source": [
    "# make sure molecule type is DNA\n",
    "record.annotations['molecule_type'] = 'DNA'"
   ]
  },
  {
   "cell_type": "code",
   "execution_count": 21,
   "id": "e97a4f91",
   "metadata": {},
   "outputs": [],
   "source": [
    "# add feature representing a Cas9 target site on fwd strand\n",
    "f1 = SeqFeature(FeatureLocation(150, 170, strand=1), type='target')\n",
    "record.features.append(f1)"
   ]
  },
  {
   "cell_type": "code",
   "execution_count": 25,
   "id": "71da7d7b",
   "metadata": {
    "scrolled": true
   },
   "outputs": [
    {
     "data": {
      "text/plain": [
       "['__bool__',\n",
       " '__class__',\n",
       " '__contains__',\n",
       " '__delattr__',\n",
       " '__dict__',\n",
       " '__dir__',\n",
       " '__doc__',\n",
       " '__eq__',\n",
       " '__format__',\n",
       " '__ge__',\n",
       " '__getattribute__',\n",
       " '__gt__',\n",
       " '__hash__',\n",
       " '__init__',\n",
       " '__init_subclass__',\n",
       " '__iter__',\n",
       " '__le__',\n",
       " '__len__',\n",
       " '__lt__',\n",
       " '__module__',\n",
       " '__ne__',\n",
       " '__new__',\n",
       " '__reduce__',\n",
       " '__reduce_ex__',\n",
       " '__repr__',\n",
       " '__setattr__',\n",
       " '__sizeof__',\n",
       " '__str__',\n",
       " '__subclasshook__',\n",
       " '__weakref__',\n",
       " '_flip',\n",
       " '_get_location_operator',\n",
       " '_get_ref',\n",
       " '_get_ref_db',\n",
       " '_get_strand',\n",
       " '_set_location_operator',\n",
       " '_set_ref',\n",
       " '_set_ref_db',\n",
       " '_set_strand',\n",
       " '_shift',\n",
       " 'extract',\n",
       " 'id',\n",
       " 'location',\n",
       " 'location_operator',\n",
       " 'qualifiers',\n",
       " 'ref',\n",
       " 'ref_db',\n",
       " 'strand',\n",
       " 'translate',\n",
       " 'type']"
      ]
     },
     "execution_count": 25,
     "metadata": {},
     "output_type": "execute_result"
    }
   ],
   "source": [
    "dir(f1)"
   ]
  },
  {
   "cell_type": "code",
   "execution_count": 26,
   "id": "d3d72f0b",
   "metadata": {},
   "outputs": [
    {
     "data": {
      "text/plain": [
       "1"
      ]
     },
     "execution_count": 26,
     "metadata": {},
     "output_type": "execute_result"
    }
   ],
   "source": [
    "f1.strand"
   ]
  },
  {
   "cell_type": "code",
   "execution_count": 22,
   "id": "aa330464",
   "metadata": {},
   "outputs": [
    {
     "data": {
      "text/plain": [
       "[SeqFeature(FeatureLocation(ExactPosition(150), ExactPosition(170), strand=1), type='target')]"
      ]
     },
     "execution_count": 22,
     "metadata": {},
     "output_type": "execute_result"
    }
   ],
   "source": [
    "record.features"
   ]
  },
  {
   "cell_type": "code",
   "execution_count": 23,
   "id": "0e6e07ef",
   "metadata": {},
   "outputs": [
    {
     "name": "stdout",
     "output_type": "stream",
     "text": [
      "LOCUS       T7_init_VR-1.ins-tBaMXTcjc9Y339JIUJ99TNRNICU 3322 bp    DNA              UNK 01-JAN-1980\n",
      "DEFINITION  T7_init_VR-1.ins-tBaMXTcjc9Y339JIUJ99TNRNICU.\n",
      "ACCESSION   T7_init_VR-1.ins-tBaMXTcjc9Y339JIUJ99TNRNICU\n",
      "VERSION     T7_init_VR-1.ins-tBaMXTcjc9Y339JIUJ99TNRNICU\n",
      "KEYWORDS    .\n",
      "SOURCE      .\n",
      "  ORGANISM  .\n",
      "            .\n",
      "FEATURES             Location/Qualifiers\n",
      "     target          151..170\n",
      "ORIGIN\n",
      "        1 gggcgaattg gagctcggta cccaaacact ccctcggtaa aagtcactaa gttgaggggg\n",
      "       61 ctattctgac tatgttaaca ttttatacga aacgacactg ctctctatcg gacactatat\n",
      "      121 taccaatggg attggctgcc taaagcagcc tgccctaaag actcgtgtgg tttcgtatcg\n",
      "      181 attcttagtg tgagatacta aaacacattc agttgaatca taatgatgta cctagcagaa\n",
      "      241 ttcgtcgcag tgaccgaggc gaggaggcta tggcagtgga ccagggggat gagtcggtgt\n",
      "      301 gacagtggtg ggggttgtgt tggtggtcgc ggcgcgggga gagtccgtag gaagtggctg\n",
      "      361 ggaggtaggg ggaaggcggc gacagtgggt attggcggcg gtgggcattg gcagcgggta\n",
      "      421 ggcatggcgg tggtggactt tggcggcggt aggcatggcg gcggtgggca tggcatggag\n",
      "      481 gcggtgggca tggcggccgc ggggcctgtc gctgtccgga gtgactaagg gacgctgaat\n",
      "      541 gattgctgtg tagaggaggg ggcatcagaa ggggcagtag cacagtccgc agcctttaat\n",
      "      601 tttcctgtga cctgcgatgg tcatctggtt tgcctactgt ggtggtggtg cttttttatt\n",
      "      661 aaaactgcgc aatgcctaca ctgccgcagg ggctgcagaa atgcgtggaa tccagacctc\n",
      "      721 gagggggggc ccggtaccca gcttttgttc cctttagtga gggttaattc tagagcatgc\n",
      "      781 ctgcattaat gaatcggcca acgcgcgggg agaggcggtt tgcgtattgg gcgctcttcc\n",
      "      841 gcttcctcgc tcactgactc gctgcgctcg gtcgttcggc tgcggcgagc ggtatcagct\n",
      "      901 cactcaaagg cggtaatacg gttatccaca gaatcagggg ataacgcagg aaagaacatg\n",
      "      961 tgagcaaaag gccagcaaaa ggccaggaac cgtaaaaagg ccgcgttgct ggcgtttttc\n",
      "     1021 cataggctcg gcccccctga cgagcatcac aaaaatcgac gctcaagtca gaggtggcga\n",
      "     1081 aacccgacag gactataaag ataccaggcg ttcccccctg gaagctccct cgtgcgctct\n",
      "     1141 cctgttccga ccctgccgct taccggatac ctgtccgcct ttctcccttc gggaagcgtg\n",
      "     1201 gcgctttctc aatgctcacg ctgtaggtat ctcagttcgg tgtaggtcgt tcgctccaag\n",
      "     1261 ctgggctgtg tgcacgaacc ccccgttcag cccgaccgct gcgccttatc cggtaactat\n",
      "     1321 cgtcttgagt ccaacccggt aagacacgac ttatcgccac tggcagcagc cactggtaac\n",
      "     1381 aggattagca gagcgaggta tgtaggcggt gctacagagt tcttgaagtg gtggcctaac\n",
      "     1441 tacggctaca ctagaaggac agtatttggt atctgcgctc tgctgaagcc agttaccttc\n",
      "     1501 ggaaaaagag ttggtagctc ttgatccggc aaacaaacca ccgctggtag cggtggtttt\n",
      "     1561 tttgtttgca agcagcagat tacgcgcaga aaaaaaggat ctcaagaaga tcctttgatc\n",
      "     1621 ttttctacgg ggtctgacgc tcagtggaac gaaaactcac gttaagggat tttggtcatg\n",
      "     1681 agattatcaa aaaggatctt cacctagatc cttttaaatt aaaaatgaag ttttaaatca\n",
      "     1741 atctaaagta tatatgagta aacttggtct gacagttacc aatgcttaat cagtgaggca\n",
      "     1801 cctatctcag cgatctgtct atttcgttca tccatagttg cctgactgcc cgtcgtgtag\n",
      "     1861 ataactacga tacgggaggg cttaccatct ggccccagtg ctgcaatgat accgcgagac\n",
      "     1921 ccacgctcac cggctccaga tttatcagca ataaaccagc cagccggaag ggccgagcgc\n",
      "     1981 agaagtggtc ctgcaacttt atccgcctcc atccagtcta ttaattgttg ccgggaagct\n",
      "     2041 agagtaagta gttcgccagt taatagtttg cgcaacgttg ttgccattgc tacaggcatc\n",
      "     2101 gtggtgtcac gctcgtcgtt tggtatggct tcattcagct ccggttccca acgatcaagg\n",
      "     2161 cgagttacat gatcccccat gttgtgaaaa aaagcggtta gctccttcgg tcctccgatc\n",
      "     2221 gttgtcagaa gtaagttggc cgcagtgtta tcactcatgc ttatggcagc actgcataat\n",
      "     2281 tctcttactg tcatgccatc cgtaagatgc ttttctgtga ctggtgagta ctcaaccaag\n",
      "     2341 tcattctgag aatagtgtat gcggcgaccg agttgctctt gcccggcgtc aatacgggat\n",
      "     2401 aataccgcgc cacatagcag aactttaaaa gtgctcatca ttggaaaacg ttcttcgggg\n",
      "     2461 cgaaaactct caaggatctt accgctgttg agatccagtt cgatgtaacc cactcgtgca\n",
      "     2521 cccaactgat cttcagcatc ttttactttc accagcgttt ctgggtgagc aaaaacagga\n",
      "     2581 aggcaaaatg ccgcaaaaaa gggaataagg gcgacacgga aatgttgaat actcatactc\n",
      "     2641 ttcctttttc aatattattg aagcatttat cagggttatt gtctcatgag cggatacata\n",
      "     2701 tttgaatgta tttagaaaaa taaacaaata ggggttccgc gcacatttcc ccgaaaagtg\n",
      "     2761 ccacctgaaa ttgtaaacgt taatattttg ttaaaattcg cgttaaattt ttgttaaatc\n",
      "     2821 agctcatttt ttaaccaata ggccgaaatc ggcaaaatcc cttataaatc aaaagaatag\n",
      "     2881 accgagatag ggttgagtgt tgttccagtt tggaacaaga gtccactatt aaagaacgtg\n",
      "     2941 gactccaacg tcaaagggcg aaaaaccgtc tatcagggcg atggcccact acgtgaacca\n",
      "     3001 tcaccctaat caagtttttt ggggtcgagg tgccgtaaag cactaaatcg gaaccctaaa\n",
      "     3061 gggagccccc gatttagagc ttgacgggga aagccggcga acgtggcgag aaaggaaggg\n",
      "     3121 aagaaagcga aaggagcggg cgctagggcg ctggcaagtg tagcggtcac gctgcgcgta\n",
      "     3181 accaccacac ccgccgcgct taatgcgccg ctacagggcg cgtcccattc gccattcagg\n",
      "     3241 ctacgcaact gttgggaagg gcgatcggtg cgggcctctt cgctattacg ccagggatcc\n",
      "     3301 tgcagtaata cgactcacta ta\n",
      "//\n",
      "\n"
     ]
    }
   ],
   "source": [
    "print(record.format('gb'))"
   ]
  },
  {
   "cell_type": "code",
   "execution_count": 24,
   "id": "f546a4dd",
   "metadata": {},
   "outputs": [
    {
     "data": {
      "text/plain": [
       "1"
      ]
     },
     "execution_count": 24,
     "metadata": {},
     "output_type": "execute_result"
    }
   ],
   "source": [
    "SeqIO.write(record, 'test.gb', 'gb')"
   ]
  },
  {
   "cell_type": "markdown",
   "id": "82a7d6b6",
   "metadata": {},
   "source": [
    "# Drawing sequences"
   ]
  },
  {
   "cell_type": "code",
   "execution_count": 3,
   "id": "96fa5a85",
   "metadata": {},
   "outputs": [
    {
     "ename": "ModuleNotFoundError",
     "evalue": "No module named 'dna_features_viewer'",
     "output_type": "error",
     "traceback": [
      "\u001b[0;31m---------------------------------------------------------------------------\u001b[0m",
      "\u001b[0;31mModuleNotFoundError\u001b[0m                       Traceback (most recent call last)",
      "\u001b[0;32m<ipython-input-3-8b116da203c0>\u001b[0m in \u001b[0;36m<module>\u001b[0;34m\u001b[0m\n\u001b[0;32m----> 1\u001b[0;31m \u001b[0;32mfrom\u001b[0m \u001b[0mdna_features_viewer\u001b[0m \u001b[0;32mimport\u001b[0m \u001b[0mBiopythonTranslator\u001b[0m\u001b[0;34m\u001b[0m\u001b[0;34m\u001b[0m\u001b[0m\n\u001b[0m",
      "\u001b[0;31mModuleNotFoundError\u001b[0m: No module named 'dna_features_viewer'"
     ]
    }
   ],
   "source": [
    "from dna_features_viewer import BiopythonTranslator"
   ]
  }
 ],
 "metadata": {
  "kernelspec": {
   "display_name": "Python 3",
   "language": "python",
   "name": "python3"
  },
  "language_info": {
   "codemirror_mode": {
    "name": "ipython",
    "version": 3
   },
   "file_extension": ".py",
   "mimetype": "text/x-python",
   "name": "python",
   "nbconvert_exporter": "python",
   "pygments_lexer": "ipython3",
   "version": "3.8.5"
  }
 },
 "nbformat": 4,
 "nbformat_minor": 5
}
