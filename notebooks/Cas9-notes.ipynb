{
 "cells": [
  {
   "cell_type": "markdown",
   "id": "e16154b3",
   "metadata": {},
   "source": [
    "# Guide RNA design notes"
   ]
  },
  {
   "cell_type": "markdown",
   "id": "26f0108b",
   "metadata": {},
   "source": [
    "## Goal"
   ]
  },
  {
   "cell_type": "markdown",
   "id": "2af14fa8",
   "metadata": {},
   "source": [
    "Design gRNA for as Cas9 nickase to test if nicks induce R-loop formation."
   ]
  },
  {
   "cell_type": "markdown",
   "id": "b88e6607",
   "metadata": {},
   "source": [
    "[addgene article](https://blog.addgene.org/how-to-design-your-grna-for-crispr-genome-editing)"
   ]
  },
  {
   "cell_type": "markdown",
   "id": "f0f7d4b8",
   "metadata": {},
   "source": [
    "```it seems to be the case that there is no universal scoring system for selecting a gRNA, as the method of producing the guide (synthetic, in vitro transcription, or lentiviral delivery) can affect the accuracy of a predictive score, as well as dynamic aspects of the target```"
   ]
  },
  {
   "cell_type": "markdown",
   "id": "d8cbd220",
   "metadata": {},
   "source": [
    "Nice"
   ]
  },
  {
   "cell_type": "markdown",
   "id": "373d8b60",
   "metadata": {},
   "source": [
    "One approach would then be to just find PAM sites and generate guide RNA for that site. Sequence should be sliced to be from perspective of transcription to make things easier."
   ]
  },
  {
   "cell_type": "markdown",
   "id": "f5e84cf3",
   "metadata": {},
   "source": [
    "### gRNA length"
   ]
  },
  {
   "cell_type": "markdown",
   "id": "a500cc33",
   "metadata": {},
   "source": [
    "- [Length of 20 bp is commonly used](https://www.ncbi.nlm.nih.gov/pmc/articles/PMC6538514/)"
   ]
  },
  {
   "cell_type": "markdown",
   "id": "194b1fdf",
   "metadata": {},
   "source": [
    "## Off targets"
   ]
  },
  {
   "cell_type": "code",
   "execution_count": 1,
   "id": "1a1edf34",
   "metadata": {},
   "outputs": [],
   "source": [
    "from itertools import permutations"
   ]
  },
  {
   "cell_type": "code",
   "execution_count": 8,
   "id": "45ec471c",
   "metadata": {},
   "outputs": [
    {
     "data": {
      "text/plain": [
       "[('A', 'T', 'G', 'C'),\n",
       " ('A', 'T', 'C', 'G'),\n",
       " ('A', 'G', 'T', 'C'),\n",
       " ('A', 'G', 'C', 'T'),\n",
       " ('A', 'C', 'T', 'G'),\n",
       " ('A', 'C', 'G', 'T'),\n",
       " ('T', 'A', 'G', 'C'),\n",
       " ('T', 'A', 'C', 'G'),\n",
       " ('T', 'G', 'A', 'C'),\n",
       " ('T', 'G', 'C', 'A'),\n",
       " ('T', 'C', 'A', 'G'),\n",
       " ('T', 'C', 'G', 'A'),\n",
       " ('G', 'A', 'T', 'C'),\n",
       " ('G', 'A', 'C', 'T'),\n",
       " ('G', 'T', 'A', 'C'),\n",
       " ('G', 'T', 'C', 'A'),\n",
       " ('G', 'C', 'A', 'T'),\n",
       " ('G', 'C', 'T', 'A'),\n",
       " ('C', 'A', 'T', 'G'),\n",
       " ('C', 'A', 'G', 'T'),\n",
       " ('C', 'T', 'A', 'G'),\n",
       " ('C', 'T', 'G', 'A'),\n",
       " ('C', 'G', 'A', 'T'),\n",
       " ('C', 'G', 'T', 'A')]"
      ]
     },
     "execution_count": 8,
     "metadata": {},
     "output_type": "execute_result"
    }
   ],
   "source": [
    "list(permutations(['A', 'T', 'G', 'C'], r=4))"
   ]
  },
  {
   "cell_type": "code",
   "execution_count": 9,
   "id": "efd7b12e",
   "metadata": {},
   "outputs": [],
   "source": [
    "import re"
   ]
  },
  {
   "cell_type": "code",
   "execution_count": 14,
   "id": "c93ad973",
   "metadata": {},
   "outputs": [
    {
     "data": {
      "text/plain": [
       "'VR-1'"
      ]
     },
     "execution_count": 14,
     "metadata": {},
     "output_type": "execute_result"
    }
   ],
   "source": [
    "re.search(r'VR-\\d+', 'ivGPqwdyYGtgT_Zr3lf6WPJc_NM insert_VR-1')[0]"
   ]
  }
 ],
 "metadata": {
  "kernelspec": {
   "display_name": "Python 3 (ipykernel)",
   "language": "python",
   "name": "python3"
  },
  "language_info": {
   "codemirror_mode": {
    "name": "ipython",
    "version": 3
   },
   "file_extension": ".py",
   "mimetype": "text/x-python",
   "name": "python",
   "nbconvert_exporter": "python",
   "pygments_lexer": "ipython3",
   "version": "3.9.6"
  }
 },
 "nbformat": 4,
 "nbformat_minor": 5
}
